{
 "cells": [
  {
   "cell_type": "markdown",
   "id": "11ef1ec6",
   "metadata": {},
   "source": [
    "# Условная оптимизация. Метод штрафных функций¶"
   ]
  },
  {
   "cell_type": "markdown",
   "id": "96fcca0b",
   "metadata": {},
   "source": [
    "Рассмотрим один из многочисленных вариантов метода штрафных функций. Задача условной оптимизации$$\n",
    "   f(x) \\to \\min\n",
    "$$при ограничениях$$\n",
    "g_1(x) = 0, \\dots, g_m(x) = 0, \\quad\n",
    "h_1(x) \\le 0, \\dots, h_p(x) \\le 0\n",
    "$$решается при помощи решения последовательности вспомогательных задач безусловной оптимизации:$$\n",
    "\\left(F(x) + c\\sum_{i=1}^m g(h_i)^2 + c\\sum_{k=1}^p \\left[ h(h_k) \\right]_+^2\\right) \\to \\min,\n",
    "$$где $c$ – некоторая возрастающая последовательность (например, геометрическая прогрессия), $[\\alpha]_+ = \\max\\{0,\\,\\alpha\\}$.\n",
    "Реализуйте данный метод. Для решения задачи безусловной оптимизации воспользуйтесь функциями из библиотеки SciPy.\n",
    "\n",
    "Проиллюстрируйте работу метода на двумерной и многомерных функциях Розенброка$$\n",
    "f(x_1,x_2,\\dots,x_n) = \\sum_{i=1}^{n-1} \\left(  (1-x_i)^2+ 100 (x_{i+1} - x_i^2 )^2 \\right) \n",
    "$$с линейными и квадратичными ограничениями. Для $n=2$ изобразите найденные точки минимума на каждой итерации."
   ]
  },
  {
   "cell_type": "code",
   "execution_count": 1,
   "id": "2c4dea03",
   "metadata": {},
   "outputs": [],
   "source": [
    "import numpy as np\n",
    "from scipy import linalg\n",
    "import matplotlib.pyplot as plt\n",
    "from scipy.optimize import minimize\n"
   ]
  },
  {
   "cell_type": "markdown",
   "id": "13d2acaf",
   "metadata": {},
   "source": [
    "Основная задача метода штрафных функций заключается в преобразовании задачи по минимизации функции с ограничениями наложенными на x\n",
    "$$z = f(x)$$\n",
    "В задачу поиска минимума без ограничений функции\n",
    "$$Z = f(x) + P(x)$$ \n",
    "\n",
    "Функция P(x) является штрафной. Необходимо, чтобы при нарушении ограничений она штрафовала Z (Увеличивала ее значение). В этом случае минимум функции Z будет находиться внутри области ограничений. Функция P(x), удовлетворяющая этому условию, может быть не единственной\n",
    "\n",
    "Сначала мы будем работать с двумерной функцией Розенброка. Она будет выглядеть следующим образом:\n",
    "$$f(x,y) = (1-x)^2+ 100 (y - x^2 )^2$$\n",
    "\n",
    "Работа программы прекратится при достижении некой точности. Что можно изобразить следующим образом:\n",
    "$$f(x,y) = (1-x)^2+ 100 (y - x^2 )^2 + P(x) < eps$$\n",
    "eps - погрешность вычислений\n"
   ]
  },
  {
   "cell_type": "markdown",
   "id": "df4ab5af",
   "metadata": {},
   "source": [
    "Зададим функцию, ограничения и коэффициенты, которые понадобятся в будущем решении"
   ]
  },
  {
   "cell_type": "code",
   "execution_count": 2,
   "id": "9e4286b0",
   "metadata": {},
   "outputs": [],
   "source": [
    "x_c = [0.9, 0.9] #Начальная точка\n",
    "i = 1 #Количество итераций цикла который и будет искать минимум\n",
    "eps = 0.00001 #При достижении указанной в этом параметре точности останавливает работу программы\n",
    "r = 1 #Служит для работы метода штрафных функций, уменьшается на каждой итерации\n",
    "b = 0.5 #Константа, служит для уменьшения предыдущего параметра в b раз\n",
    "\n",
    "h_1 = lambda x: (-x[0] + 5) #Ограничение 1\n",
    "h_2 = lambda x: (-x[1] + 5) #Ограничение 2\n",
    "\n",
    "\n",
    "roz = lambda x: ((1-x[0])**2) + 100*(x[1] - x[0]**2)**2 #Функция Розенброка от 2 переменных\n",
    "curr_func = lambda x: roz(x) + r*(h_1(x)**2 + h_2(x)**2)"
   ]
  },
  {
   "cell_type": "markdown",
   "id": "fcef3de3",
   "metadata": {},
   "source": [
    "#### Ограничения:\n",
    "$$x > 5$$\n",
    "$$y > 5$$\n",
    "\n",
    "Я не буду выводить все найденные с помощью метода штрафных функций точки, потому как самые первые из найденных находятся слишком далеко от минимума функции, что сделает визуальное отображение всей картины недостаточно наглядным\n",
    "\n",
    "Программа будет выполнять свою работу столько, сколько потребуется, чтобы"
   ]
  },
  {
   "cell_type": "code",
   "execution_count": 3,
   "id": "889f6b50",
   "metadata": {},
   "outputs": [
    {
     "name": "stdout",
     "output_type": "stream",
     "text": [
      "Найденный минимум - [1.0000058  1.00001165]\n",
      "Итераций работы программы - 23\n"
     ]
    },
    {
     "data": {
      "image/png": "[encoded data removed]",
      "text/plain": [
       "<Figure size 432x288 with 1 Axes>"
      ]
     },
     "metadata": {
      "needs_background": "light"
     },
     "output_type": "display_data"
    }
   ],
   "source": [
    "while i < 1000:\n",
    "    if(i >= 10):\n",
    "        plt.plot(x_c[0], x_c[1], 'o', markersize=5, label=i)\n",
    "    if r*(max(0, h_1(x_c))**2 + max(0, h_2(x_c))**2) < eps:\n",
    "        break\n",
    "    curr_func = lambda x: roz(x) + r*(h_1(x)**2 + h_2(x)**2)\n",
    "    x_c = minimize(curr_func, x_c).x;\n",
    "    i += 1\n",
    "    r  *= b;   \n",
    "\n",
    "print(\"Найденный минимум - \" + str(x_c))\n",
    "print(\"Итераций работы программы - \" + str(i))\n",
    "\n",
    "plt.xlabel('x')\n",
    "plt.ylabel('y')\n",
    "plt.legend()\n",
    "\n",
    "pass"
   ]
  },
  {
   "cell_type": "markdown",
   "id": "00568b7f",
   "metadata": {},
   "source": [
    "### Проверим наше решение\n",
    "Для чего мы используем стандартную функцию minimize, которую мы импортировали в начале. Наше решение не должно слишком сильно отличаться от решения, полученного в ходе проверки"
   ]
  },
  {
   "cell_type": "code",
   "execution_count": 4,
   "id": "d5d7168d",
   "metadata": {},
   "outputs": [
    {
     "data": {
      "text/plain": [
       "     fun: 3.110925386414028e-07\n",
       "     jac: array([ 0.01530499, -0.0080378 ])\n",
       " message: 'Optimization terminated successfully'\n",
       "    nfev: 25\n",
       "     nit: 7\n",
       "    njev: 7\n",
       "  status: 0\n",
       " success: True\n",
       "       x: array([0.99961333, 0.9991866 ])"
      ]
     },
     "execution_count": 4,
     "metadata": {},
     "output_type": "execute_result"
    }
   ],
   "source": [
    "roz = lambda x: ((1-x[0])**2) + (100*(x[1] - x[0]**2)**2)\n",
    "h_1 = lambda x: (-x[0] + 5)\n",
    "h_2 = lambda x: (-x[1] + 5)\n",
    "x0 = [0.9, 0.9];\n",
    "\n",
    "con = ({'type': 'ineq', 'fun': h_1},\n",
    "       {'type': 'ineq', 'fun': h_2},) \n",
    "\n",
    "minimize(roz, x0, constraints=con)"
   ]
  },
  {
   "cell_type": "markdown",
   "id": "bf2919f6",
   "metadata": {},
   "source": [
    "## Найдем минимум двумерной функции Розенброка с другими ограничениями"
   ]
  },
  {
   "cell_type": "code",
   "execution_count": 5,
   "id": "879c1d94",
   "metadata": {},
   "outputs": [],
   "source": [
    "x_c = [5, 10]\n",
    "i = 1\n",
    "eps = 0.00001\n",
    "r = 0.2\n",
    "b = 1\n",
    "\n",
    "h_1 = lambda x: (x[1]**2 + x[0]**2 - 20) #Ограничение 1\n",
    "h_2 = lambda x: (x[0] + x[1] - 6) #Ограничение 2\n",
    "\n",
    "roz = lambda x: ((1-x[0])**2) + (100*(x[1] - x[0]**2)**2)\n",
    "curr_func = lambda x: roz(x) + r*(h_1(x)**2 + h_2(x)**2 + h_3(x)**2)"
   ]
  },
  {
   "cell_type": "markdown",
   "id": "73dbf696",
   "metadata": {},
   "source": [
    "#### Ограничения:"
   ]
  },
  {
   "cell_type": "markdown",
   "id": "23d54949",
   "metadata": {},
   "source": [
    "$$y^2 + x^2 > 20$$\n",
    "$$x + y > 6$$"
   ]
  },
  {
   "cell_type": "code",
   "execution_count": 6,
   "id": "9b55df80",
   "metadata": {},
   "outputs": [
    {
     "name": "stdout",
     "output_type": "stream",
     "text": [
      "Найденный минимум - [1.99570942 3.98506837]\n",
      "Итераций работы программы - 2\n"
     ]
    },
    {
     "data": {
      "image/png": "[encoded data removed]",
      "text/plain": [
       "<Figure size 432x288 with 1 Axes>"
      ]
     },
     "metadata": {
      "needs_background": "light"
     },
     "output_type": "display_data"
    }
   ],
   "source": [
    "while i < 1000:\n",
    "    if(i >= 1):\n",
    "        plt.plot(x_c[0], x_c[1], 'o', markersize=5, label=i)\n",
    "    if r*(max(0, h_1(x_c))**2 + max(0, h_2(x_c))**2) < eps:\n",
    "        break\n",
    "    curr_func = lambda x: roz(x) + r*(h_1(x)**2 + h_2(x)**2)\n",
    "    x_c = minimize(curr_func, x_c).x;\n",
    "    i += 1\n",
    "    r  *= b;   \n",
    "\n",
    "print(\"Найденный минимум - \" + str(x_c))\n",
    "print(\"Итераций работы программы - \" + str(i))\n",
    "\n",
    "plt.xlabel('x')\n",
    "plt.ylabel('y')\n",
    "plt.legend()\n",
    "\n",
    "pass"
   ]
  },
  {
   "cell_type": "code",
   "execution_count": 7,
   "id": "79d60f1d",
   "metadata": {},
   "outputs": [
    {
     "data": {
      "text/plain": [
       "     fun: 0.9996000960030997\n",
       "     jac: array([0.40019053, 0.39983983])\n",
       " message: 'Optimization terminated successfully'\n",
       "    nfev: 34\n",
       "     nit: 10\n",
       "    njev: 10\n",
       "  status: 0\n",
       " success: True\n",
       "       x: array([1.99960013, 4.00039987])"
      ]
     },
     "execution_count": 7,
     "metadata": {},
     "output_type": "execute_result"
    }
   ],
   "source": [
    "roz = lambda x: (1-x[0])**2 + 100*(x[1] - x[0]**2)**2;\n",
    "\n",
    "h_1 = lambda x: (x[1]**2 + x[0]**2 - 20) #Ограничение 1\n",
    "h_2 = lambda x: (x[0] + x[1] - 6) #Ограничение 2\n",
    "h_3 = lambda x: (x[1]**2 - 5) #Ограничение 3\n",
    "x_c = [5, 10];\n",
    "\n",
    "con = ({'type': 'ineq', 'fun': h_1},\n",
    "       {'type': 'ineq', 'fun': h_2},\n",
    "       {'type': 'ineq', 'fun': h_3}) \n",
    "\n",
    "minimize(roz, x_c, constraints=con)"
   ]
  },
  {
   "cell_type": "markdown",
   "id": "ea3898ab",
   "metadata": {},
   "source": [
    "## Найдем минимум трехмерной функции Розенброка с другими ограничениями"
   ]
  },
  {
   "cell_type": "markdown",
   "id": "29b5a43f",
   "metadata": {},
   "source": [
    "Трехмерная функция Розенброка (функция от трех переменных) будет выглядеть следующим образом:\n",
    "$$f(x,y) = (1-x)^2+ 100 (y - x^2 )^2 + (1-y)^2+ 100 (z - y^2 )^2$$\n",
    "\n",
    "Остальные аспекты работы метода штрафных функций не будут меняться"
   ]
  },
  {
   "cell_type": "code",
   "execution_count": 25,
   "id": "10042d72",
   "metadata": {},
   "outputs": [],
   "source": [
    "x_c = [2, 2, 2]\n",
    "i = 1\n",
    "eps = 0.01\n",
    "r = 0.001\n",
    "b = 200\n",
    "\n",
    "\n",
    "h_1 = lambda x: (x[0]**2 + 10)\n",
    "h_2 = lambda x: (x[0]**2 + x[1]**2 - 200)\n",
    "h_3 = lambda x: (x[2]**2 - 33)\n",
    "\n",
    "\n",
    "roz = lambda x: (1-x[0])**2 + 100*(x[1] - x[0]**2)**2 + (1-x[1])**2 + 100*(x[2] - x[1]**2)**2\n",
    "curr_func = lambda x: rz(x) + r*(h_1(x)**2 + h_2(x)**2 + h_3(x)**2)"
   ]
  },
  {
   "cell_type": "markdown",
   "id": "0124af5a",
   "metadata": {},
   "source": [
    "#### Ограничения"
   ]
  },
  {
   "cell_type": "markdown",
   "id": "12b00c49",
   "metadata": {},
   "source": [
    "$$x^2 > 10$$\n",
    "$$x^2 + y^2 > 200$$\n",
    "$$z > 33$$"
   ]
  },
  {
   "cell_type": "code",
   "execution_count": 26,
   "id": "1f376a2c",
   "metadata": {},
   "outputs": [
    {
     "name": "stdout",
     "output_type": "stream",
     "text": [
      "Найденный минимум - [  3.69461698  13.65100149 186.35161619]\n",
      "Итераций работы программы - 10\n"
     ]
    },
    {
     "data": {
      "image/png": "[encoded data removed]",
      "text/plain": [
       "<Figure size 432x288 with 1 Axes>"
      ]
     },
     "metadata": {
      "needs_background": "light"
     },
     "output_type": "display_data"
    }
   ],
   "source": [
    "while i < 10:\n",
    "    if(i >= 0):\n",
    "        plt.plot(x_c[0], x_c[1], 'o', markersize=5, label=i)\n",
    "    if r*(max(0, h_1(x_c))**2 + max(0, h_2(x_c))**2 + max(0, h_3(x_c))**2) < eps:\n",
    "        break\n",
    "    curr_func = lambda x: roz(x) + r*(min(0, h_1(x))**2 + min(0, h_2(x))**2 + min(0, h_3(x))**2)\n",
    "    x_c = minimize(curr_func, x_c).x;\n",
    "    i += 1\n",
    "    r  *= b;   \n",
    "\n",
    "print(\"Найденный минимум - \" + str(x_c))\n",
    "print(\"Итераций работы программы - \" + str(i))\n",
    "\n",
    "plt.xlabel('x')\n",
    "plt.ylabel('y')\n",
    "plt.legend()\n",
    "\n",
    "pass"
   ]
  },
  {
   "cell_type": "code",
   "execution_count": 11,
   "id": "aa1494e9",
   "metadata": {},
   "outputs": [
    {
     "data": {
      "text/plain": [
       "     fun: 167.30852189325915\n",
       "     jac: array([6.78297615e+00, 2.48634968e+01, 9.19342041e-03])\n",
       " message: 'Optimization terminated successfully'\n",
       "    nfev: 71\n",
       "     nit: 15\n",
       "    njev: 15\n",
       "  status: 0\n",
       " success: True\n",
       "       x: array([  3.6948452 ,  13.65093839, 186.3481649 ])"
      ]
     },
     "execution_count": 11,
     "metadata": {},
     "output_type": "execute_result"
    }
   ],
   "source": [
    "roz = lambda x: (1-x[0])**2 + 100*(x[1] - x[0]**2)**2 + (1-x[1])**2 + 100*(x[2] - x[1]**2)**2\n",
    "\n",
    "h_1 = lambda x: (x[0]**2 + 10)\n",
    "h_2 = lambda x: (x[0]**2 + x[1]**2 - 200)\n",
    "h_3 = lambda x: (x[2]**2 - 33)\n",
    "\n",
    "x_c = [2, 2, 2]\n",
    "\n",
    "con = ({'type': 'ineq', 'fun': h_1},\n",
    "       {'type': 'ineq', 'fun': h_2},\n",
    "       {'type': 'ineq', 'fun': h_3}) \n",
    "\n",
    "minimize(roz, x_c, constraints=con)"
   ]
  },
  {
   "cell_type": "markdown",
   "id": "e580355e",
   "metadata": {},
   "source": [
    "## Вывод"
   ]
  },
  {
   "cell_type": "markdown",
   "id": "d067b8c5",
   "metadata": {},
   "source": [
    "Метод штрафных функций может быть использован для решения задач оптимизации, чтобы найти минимальное значение функции. Как уже было расписано выше, суть этого метода заключается в так называемом \"наложении штрафа\" на функцию, если она начинает выходить за определенные значения. Таким образом получается решать не задачу по минимизации функции с ограничениями, а задачу поиска минимума без ограничений функции. Притом, насколько я могу судить, подобный вариант нахождения минимума функции для некоторых случаев может быть удобнее, чем применение стандартного minimize\n"
   ]
  },
  {
   "cell_type": "code",
   "execution_count": null,
   "id": "33626544",
   "metadata": {},
   "outputs": [],
   "source": []
  }
 ],
 "metadata": {
  "kernelspec": {
   "display_name": "Python 3",
   "language": "python",
   "name": "python3"
  },
  "language_info": {
   "codemirror_mode": {
    "name": "ipython",
    "version": 3
   },
   "file_extension": ".py",
   "mimetype": "text/x-python",
   "name": "python",
   "nbconvert_exporter": "python",
   "pygments_lexer": "ipython3",
   "version": "3.8.8"
  }
 },
 "nbformat": 4,
 "nbformat_minor": 5
}
